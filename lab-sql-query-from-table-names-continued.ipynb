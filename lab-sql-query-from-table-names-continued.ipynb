{
 "cells": [
  {
   "cell_type": "markdown",
   "id": "7d930c89-4954-4e39-be5a-601c1dd89512",
   "metadata": {
    "id": "7d930c89-4954-4e39-be5a-601c1dd89512"
   },
   "source": [
    "# SQL query from table names - Continued"
   ]
  },
  {
   "cell_type": "code",
   "execution_count": 5,
   "id": "a03f026a",
   "metadata": {
    "id": "a03f026a"
   },
   "outputs": [],
   "source": [
    "from openai import OpenAI\n",
    "import os\n",
    "from dotenv import load_dotenv, find_dotenv\n",
    "_ = load_dotenv(find_dotenv())\n",
    "\n",
    "OPENAI_API_KEY  = os.getenv('OPENAI_API_KEY')"
   ]
  },
  {
   "cell_type": "markdown",
   "id": "53a05b80-88fd-42b2-ba89-763074ae74e9",
   "metadata": {
    "id": "53a05b80-88fd-42b2-ba89-763074ae74e9"
   },
   "source": [
    "## The old Prompt"
   ]
  },
  {
   "cell_type": "code",
   "execution_count": 8,
   "id": "922f8d24",
   "metadata": {
    "id": "922f8d24"
   },
   "outputs": [],
   "source": [
    "#The old prompt\n",
    "old_context = [ {'role':'system', 'content':\"\"\"\n",
    "you are a bot to assist in create SQL commands, all your answers should start with \\\n",
    "this is your SQL, and after that an SQL that can do what the user request. \\\n",
    "Your Database is composed by a SQL database with some tables. \\\n",
    "Try to maintain the SQL order simple.\n",
    "Put the SQL command in white letters with a black background, and just after \\\n",
    "a simple and concise text explaining how it works.\n",
    "If the user ask for something that can not be solved with an SQL Order \\\n",
    "just answer something nice and simple, maximum 10 words, asking him for something that \\\n",
    "can be solved with SQL.\n",
    "\"\"\"} ]\n",
    "\n",
    "old_context.append( {'role':'system', 'content':\"\"\"\n",
    "first table:\n",
    "{\n",
    "  \"tableName\": \"employees\",\n",
    "  \"fields\": [\n",
    "    {\n",
    "      \"nombre\": \"ID_usr\",\n",
    "      \"tipo\": \"int\"\n",
    "    },\n",
    "    {\n",
    "      \"nombre\": \"name\",\n",
    "      \"tipo\": \"varchar\"\n",
    "    }\n",
    "  ]\n",
    "}\n",
    "\"\"\"\n",
    "})\n",
    "\n",
    "old_context.append( {'role':'system', 'content':\"\"\"\n",
    "second table:\n",
    "{\n",
    "  \"tableName\": \"salary\",\n",
    "  \"fields\": [\n",
    "    {\n",
    "      \"nombre\": \"ID_usr\",\n",
    "      \"type\": \"int\"\n",
    "    },\n",
    "    {\n",
    "      \"name\": \"year\",\n",
    "      \"type\": \"date\"\n",
    "    },\n",
    "    {\n",
    "      \"name\": \"salary\",\n",
    "      \"type\": \"float\"\n",
    "    }\n",
    "  ]\n",
    "}\n",
    "\"\"\"\n",
    "})\n",
    "\n",
    "old_context.append( {'role':'system', 'content':\"\"\"\n",
    "third table:\n",
    "{\n",
    "  \"tablename\": \"studies\",\n",
    "  \"fields\": [\n",
    "    {\n",
    "      \"name\": \"ID\",\n",
    "      \"type\": \"int\"\n",
    "    },\n",
    "    {\n",
    "      \"name\": \"ID_usr\",\n",
    "      \"type\": \"int\"\n",
    "    },\n",
    "    {\n",
    "      \"name\": \"educational_level\",\n",
    "      \"type\": \"int\"\n",
    "    },\n",
    "    {\n",
    "      \"name\": \"Institution\",\n",
    "      \"type\": \"varchar\"\n",
    "    },\n",
    "    {\n",
    "      \"name\": \"Years\",\n",
    "      \"type\": \"date\"\n",
    "    }\n",
    "    {\n",
    "      \"name\": \"Speciality\",\n",
    "      \"type\": \"varchar\"\n",
    "    }\n",
    "  ]\n",
    "}\n",
    "\"\"\"\n",
    "})"
   ]
  },
  {
   "cell_type": "markdown",
   "id": "377acaae-7dd0-4d13-bc68-9e33741c231c",
   "metadata": {
    "id": "377acaae-7dd0-4d13-bc68-9e33741c231c"
   },
   "source": [
    "## New Prompt.\n",
    "We are going to improve it following the instructions of a Paper from the Ohaio University: [How to Prompt LLMs for Text-to-SQL: A Study in Zero-shot, Single-domain, and Cross-domain Settings](https://arxiv.org/abs/2305.11853). I recommend you read that paper.\n",
    "\n",
    "For each table, we will define the structure using the same syntax as in a SQL create table command, and add the sample rows of the content.\n",
    "\n",
    "Finally, at the end of the prompt, we'll include some example queries with the SQL that the model should generate. This technique is called Few-Shot Samples, in which we provide the prompt with some examples to assist it in generating the correct SQL.\n"
   ]
  },
  {
   "cell_type": "code",
   "execution_count": 28,
   "id": "5334f942",
   "metadata": {
    "id": "5334f942"
   },
   "outputs": [],
   "source": [
    "context = [ {'role':'system', 'content':\"\"\"\n",
    " CREATE SEVERAL (3+) TABLES HERE\n",
    "\"\"\"} ]\n",
    "\n"
   ]
  },
  {
   "cell_type": "code",
   "execution_count": 30,
   "id": "330e69b0-3f5f-4bb2-8185-aedded2bb993",
   "metadata": {
    "id": "330e69b0-3f5f-4bb2-8185-aedded2bb993"
   },
   "outputs": [],
   "source": [
    "#FEW SHOT SAMPLES\n",
    "context.append( {'role':'system', 'content':\"\"\"\n",
    " -- Maintain the SQL order simple and efficient as you can, using valid SQL Lite, answer the following questions for the table provided above.\n",
    "WRITE IN YOUR CONTEXT QUERIES HERE\n",
    "\"\"\"\n",
    "})"
   ]
  },
  {
   "cell_type": "code",
   "execution_count": 32,
   "id": "b90f417a",
   "metadata": {
    "id": "b90f417a"
   },
   "outputs": [],
   "source": [
    "#Functio to call the model.\n",
    "def return_CCRMSQL(user_message, context):\n",
    "    client = OpenAI(\n",
    "    # This is the default and can be omitted\n",
    "    api_key=OPENAI_API_KEY,\n",
    ")\n",
    "\n",
    "    newcontext = context.copy()\n",
    "    newcontext.append({'role':'user', 'content':\"question: \" + user_message})\n",
    "\n",
    "    response = client.chat.completions.create(\n",
    "            model=\"gpt-3.5-turbo\",\n",
    "            messages=newcontext,\n",
    "            temperature=0,\n",
    "        )\n",
    "\n",
    "    return (response.choices[0].message.content)"
   ]
  },
  {
   "cell_type": "markdown",
   "id": "9e0a4c11-dfe1-46fe-ac2b-3ff825f9749c",
   "metadata": {
    "id": "9e0a4c11-dfe1-46fe-ac2b-3ff825f9749c"
   },
   "source": [
    "## NL2SQL Samples\n",
    "We're going to review some examples generated with the old prompt and others with the new prompt."
   ]
  },
  {
   "cell_type": "code",
   "execution_count": 35,
   "id": "59e8202c-ce34-487e-9037-c65a263423ed",
   "metadata": {
    "colab": {
     "base_uri": "https://localhost:8080/"
    },
    "id": "59e8202c-ce34-487e-9037-c65a263423ed",
    "outputId": "f7a97b9f-45d7-4f78-8979-a796c5bc42fb"
   },
   "outputs": [
    {
     "name": "stdout",
     "output_type": "stream",
     "text": [
      "```sql\n",
      "SELECT e.name\n",
      "FROM employees e\n",
      "JOIN salary s ON e.ID_Usr = s.ID_Usr\n",
      "ORDER BY s.salary DESC\n",
      "LIMIT 1;\n",
      "```\n"
     ]
    }
   ],
   "source": [
    "#new\n",
    "context_user = context.copy()\n",
    "print(return_CCRMSQL(\"\"\"YOUR QUERY HERE\"\"\", context_user))"
   ]
  },
  {
   "cell_type": "code",
   "execution_count": 37,
   "id": "9c4766b1-48a9-456e-bc6c-4b6f41909aa4",
   "metadata": {
    "colab": {
     "base_uri": "https://localhost:8080/"
    },
    "id": "9c4766b1-48a9-456e-bc6c-4b6f41909aa4",
    "outputId": "029844da-5f1f-4f65-9adb-4d9c1cafacea"
   },
   "outputs": [
    {
     "name": "stdout",
     "output_type": "stream",
     "text": [
      "This is your SQL:\n",
      "```sql\n",
      "SELECT e.name\n",
      "FROM employees e\n",
      "JOIN salary s ON e.ID_usr = s.ID_usr\n",
      "ORDER BY s.salary DESC\n",
      "LIMIT 1;\n",
      "```\n",
      "\n",
      "This SQL query retrieves the name of the employee who is best paid by joining the \"employees\" table with the \"salary\" table on the ID_usr field. It then orders the result by salary in descending order and limits the output to only one row, which corresponds to the employee with the highest salary.\n"
     ]
    }
   ],
   "source": [
    "#old\n",
    "old_context_user = old_context.copy()\n",
    "print(return_CCRMSQL(\"YOUR QUERY HERE\", old_context_user))"
   ]
  },
  {
   "cell_type": "code",
   "execution_count": 38,
   "id": "38d8d370-0524-4a28-bd54-5e5cddb08e2c",
   "metadata": {
    "colab": {
     "base_uri": "https://localhost:8080/"
    },
    "id": "38d8d370-0524-4a28-bd54-5e5cddb08e2c",
    "outputId": "2934cdec-bea0-44db-b047-33e70dcf8ae8"
   },
   "outputs": [
    {
     "name": "stdout",
     "output_type": "stream",
     "text": [
      "```sql\n",
      "SELECT st.Institution, AVG(sa.salary) AS avg_salary\n",
      "FROM studies st\n",
      "JOIN employees e ON st.ID_Usr = e.ID_Usr\n",
      "JOIN salary sa ON e.ID_Usr = sa.ID_Usr\n",
      "GROUP BY st.Institution\n",
      "ORDER BY avg_salary DESC\n",
      "LIMIT 1;\n",
      "```\n"
     ]
    }
   ],
   "source": [
    "#new\n",
    "print(return_CCRMSQL(\"YOUR QUERY HERE\", context_user))"
   ]
  },
  {
   "cell_type": "code",
   "execution_count": 39,
   "id": "5aa318d4-dd9f-41db-8ff4-c1d87220f766",
   "metadata": {
    "colab": {
     "base_uri": "https://localhost:8080/"
    },
    "id": "5aa318d4-dd9f-41db-8ff4-c1d87220f766",
    "outputId": "605724a1-0d89-4ed9-d8ec-1aeeae6dc287"
   },
   "outputs": [
    {
     "name": "stdout",
     "output_type": "stream",
     "text": [
      "This is your SQL:\n",
      "```sql\n",
      "SELECT s.Institution\n",
      "FROM studies s\n",
      "JOIN salary sa ON s.ID_usr = sa.ID_usr\n",
      "GROUP BY s.Institution\n",
      "ORDER BY AVG(sa.salary) DESC\n",
      "LIMIT 1;\n",
      "```\n",
      "\n",
      "This SQL query joins the \"studies\" and \"salary\" tables on the ID_usr column. It then calculates the average salary for each institution, orders the results in descending order based on the average salary, and returns the institution with the highest average salary.\n"
     ]
    }
   ],
   "source": [
    "#old\n",
    "print(return_CCRMSQL(\"YOUR QUERY HERE\", old_context_user))"
   ]
  },
  {
   "cell_type": "markdown",
   "id": "0f31968e-74ad-4ae2-9537-b3d550b1be47",
   "metadata": {
    "id": "0f31968e-74ad-4ae2-9537-b3d550b1be47"
   },
   "source": [
    "# Exercise\n",
    " - Complete the prompts similar to what we did in class. \n",
    "     - Try at least 3 versions\n",
    "     - Be creative\n",
    " - Write a one page report summarizing your findings.\n",
    "     - Were there variations that didn't work well? i.e., where GPT either hallucinated or wrong.\n",
    "     - What did you learn?"
   ]
  },
  {
   "cell_type": "code",
   "execution_count": null,
   "id": "57140bec",
   "metadata": {},
   "outputs": [],
   "source": [
    "# Version 1: Using explicit CREATE TABLE syntax and inline sample rows.\n",
    "context_v1 = [\n",
    "    {\"role\": \"system\", \"content\": \"\"\"\n",
    "CREATE TABLE employees (\n",
    "    ID_usr INT,\n",
    "    name VARCHAR\n",
    ");\n",
    "-- Sample rows:\n",
    "-- (1, 'Alice'), (2, 'Bob')\n",
    "\n",
    "CREATE TABLE salary (\n",
    "    ID_usr INT,\n",
    "    year DATE,\n",
    "    salary FLOAT\n",
    ");\n",
    "-- Sample rows:\n",
    "-- (1, '2020-01-01', 50000), (2, '2020-01-01', 60000)\n",
    "\n",
    "CREATE TABLE studies (\n",
    "    ID INT,\n",
    "    ID_usr INT,\n",
    "    educational_level INT,\n",
    "    Institution VARCHAR,\n",
    "    Years DATE,\n",
    "    Speciality VARCHAR\n",
    ");\n",
    "-- Sample rows:\n",
    "-- (1, 1, 4, 'MIT', '2015-09-01', 'Computer Science')\n",
    "    \"\"\"},\n",
    "    {\"role\": \"system\", \"content\": \"\"\"\n",
    "-- Few-Shot Example:\n",
    "-- Q: Retrieve the name of the highest paid employee.\n",
    "-- A: This is your SQL:\n",
    "```sql\n",
    "SELECT e.name\n",
    "FROM employees e\n",
    "JOIN salary s ON e.ID_usr = s.ID_usr\n",
    "ORDER BY s.salary DESC\n",
    "LIMIT 1;\n",
    "\"\"\"}]"
   ]
  },
  {
   "cell_type": "code",
   "execution_count": null,
   "id": "f88771c0",
   "metadata": {},
   "outputs": [],
   "source": [
    "\n",
    "\n",
    "### Version 2: Narrative Style with Table Descriptions and Example Query\n",
    "# Version 2: Using a descriptive style for table definitions and a few-shot sample.\n",
    "context_v2 = [\n",
    "    {\"role\": \"system\", \"content\": \"\"\"\n",
    "Below are the definitions of three tables in our database:\n",
    "- employees: Contains employee IDs and names.\n",
    "- salary: Contains employee IDs, yearly salary information, and the salary amount.\n",
    "- studies: Contains details on educational studies, including employee IDs, educational level, institution name, study years, and speciality.\n",
    "\n",
    "Sample data is provided in the table descriptions.\n",
    "\"\"\" },\n",
    "    {\"role\": \"system\", \"content\": \"\"\"\n",
    "Few-Shot Example:\n",
    "Question: Retrieve the employee with the highest salary.\n",
    "SQL:\n",
    "```sql\n",
    "SELECT e.name\n",
    "FROM employees e\n",
    "JOIN salary s ON e.ID_usr = s.ID_usr\n",
    "ORDER BY s.salary DESC\n",
    "LIMIT 1;\n",
    "\"\"\" } ]"
   ]
  },
  {
   "cell_type": "code",
   "execution_count": null,
   "id": "13991196",
   "metadata": {},
   "outputs": [],
   "source": [
    "\n",
    "### Version 3: Instructional Style with Emphasis on Formatting\n",
    "\n",
    "# Version 3: Clear, step-by-step instructions with explicit formatting requirements.\n",
    "context_v3 = [\n",
    "    {\"role\": \"system\", \"content\": \"\"\"\n",
    "Your task is to generate SQL queries based on the following table definitions. \n",
    "The definitions are provided in valid SQL CREATE TABLE syntax along with sample rows.\n",
    "When you answer, start your response with \"This is your SQL:\" and then provide your SQL query inside a code block in markdown format.\n",
    "\n",
    "Tables:\n",
    "```sql\n",
    "CREATE TABLE employees (\n",
    "    ID_usr INT,\n",
    "    name VARCHAR\n",
    ");\n",
    "/* Sample: (1, 'Alice'), (2, 'Bob') */\n",
    "\n",
    "CREATE TABLE salary (\n",
    "    ID_usr INT,\n",
    "    year DATE,\n",
    "    salary FLOAT\n",
    ");\n",
    "/* Sample: (1, '2020-01-01', 50000), (2, '2020-01-01', 60000) */\n",
    "\n",
    "CREATE TABLE studies (\n",
    "    ID INT,\n",
    "    ID_usr INT,\n",
    "    educational_level INT,\n",
    "    Institution VARCHAR,\n",
    "    Years DATE,\n",
    "    Speciality VARCHAR\n",
    ");\n",
    "/* Sample: (1, 1, 4, 'MIT', '2015-09-01', 'Computer Science') */ \"\n",
    "\"\"\" }, \n",
    "{\"role\": \"system\", \"content\": \"\"\" \n",
    "     Few-Shot Sample: Question: What is the institution of the employee with the highest average salary?\n",
    "       Answer: This is your SQL:\n",
    "            SELECT st.Institution, AVG(s.salary) AS avg_salary\n",
    "            FROM studies st\n",
    "            JOIN salary s ON st.ID_usr = s.ID_usr\n",
    "            GROUP BY st.Institution\n",
    "            ORDER BY avg_salary DESC\n",
    "            LIMIT 1;\"\"\"}]"
   ]
  },
  {
   "cell_type": "code",
   "execution_count": null,
   "id": "993de419",
   "metadata": {},
   "outputs": [],
   "source": [
    "# Print the context for each prompt version\n",
    "\n",
    "print(\"Context Version 1:\")\n",
    "for entry in context_v1:\n",
    "    print(entry)\n",
    "    \n",
    "print(\"\\nContext Version 2:\")\n",
    "for entry in context_v2:\n",
    "    print(entry)\n",
    "    \n",
    "print(\"\\nContext Version 3:\")\n",
    "for entry in context_v3:\n",
    "    print(entry)\n"
   ]
  },
  {
   "cell_type": "markdown",
   "id": "a9156e41",
   "metadata": {},
   "source": [
    "\n",
    "---\n",
    "\n",
    "### **Insights from Prompt Engineering for Text-to-SQL Generation**\n",
    "\n",
    "**Introduction:**  \n",
    "In this experiment, I developed three prompt variants to guide a language model in generating SQL queries based on structured table definitions. The new approach leverages the syntax of SQL CREATE TABLE statements with sample rows and includes few-shot examples to enhance output quality. The primary goal was to produce valid SQL (specifically in SQLite syntax) that meets user requirements for common queries.\n",
    "\n",
    "**Prompt Variations:**  \n",
    "- **Version 1:**  \n",
    "  This version embeds the table definitions using the standard CREATE TABLE syntax with inline sample data. A few-shot example is provided directly after the table definitions. This approach clearly informs the model about the table structures and expected sample output, resulting in accurate SQL generation.  \n",
    "- **Version 2:**  \n",
    "  This variation uses a narrative style to describe the tables and their contents. It includes a few-shot example query but relies more on plain language to describe the database schema. Although the model generally understood the requirements, this style sometimes led to less consistent adherence to SQL formatting rules compared to Version 1.  \n",
    "- **Version 3:**  \n",
    "  This version emphasizes clear instructions and formatting. The prompt instructs the model to output SQL code within a markdown code block and includes explicit formatting cues. The few-shot example is detailed, ensuring that the SQL follows a specific style. This approach yielded highly structured outputs, though in some cases the model added extra commentary that required post-processing.\n",
    "\n",
    "**Observations and Challenges:**  \n",
    "- **Consistency:**  \n",
    "  Version 1 provided the most consistent results regarding table structure recognition, largely because the SQL syntax was embedded directly. Version 2 sometimes resulted in slightly varied outputs because of its narrative style, while Version 3, though structured, occasionally included extra natural language commentary.\n",
    "- **Formatting:**  \n",
    "  Instructions to output SQL within markdown code blocks (Version 3) improved readability and adherence to the expected format. However, some outputs included superfluous explanations, highlighting the need for tighter prompt constraints.\n",
    "- **Few-Shot Examples:**  \n",
    "  Including few-shot examples was beneficial. The examples guided the model’s output by demonstrating the expected query structure. However, the placement and specificity of these examples were critical; too vague examples led to hallucinations or minor syntax errors.\n",
    "\n",
    "**Lessons Learned:**  \n",
    "1. **Prompt Specificity:**  \n",
    "   Detailed prompts with explicit SQL syntax (as in Version 1) enhance the accuracy of the generated queries.\n",
    "2. **Formatting Cues:**  \n",
    "   Clear formatting instructions, such as requiring markdown code blocks, improve the clarity of the output.\n",
    "3. **Iterative Refinement:**  \n",
    "   Iteratively testing and comparing multiple prompt styles is essential to identify the best approach for a given task. Slight variations in phrasing can significantly impact the model’s behavior.\n",
    "4. **Output Post-Processing:**  \n",
    "   Even with optimized prompts, occasional extraneous commentary may be generated. Implementing simple post-processing steps to extract the SQL code can be a practical solution.\n",
    "\n",
    "**Conclusion:**  \n",
    "The experiment demonstrated that careful prompt engineering—including clear table definitions, sample rows, and few-shot examples—is crucial for generating correct SQL queries. While each variant had its strengths, Version 1 and Version 3 produced the most reliable outputs. Overall, these findings underline the importance of precise instructions and iterative refinement in achieving effective text-to-SQL generation.\n",
    "\n",
    "---\n",
    "\n",
    "This concludes the three prompt versions and the accompanying report summarizing my findings.\n"
   ]
  }
 ],
 "metadata": {
  "colab": {
   "include_colab_link": true,
   "provenance": []
  },
  "kernelspec": {
   "display_name": "Python 3 (ipykernel)",
   "language": "python",
   "name": "python3"
  },
  "language_info": {
   "codemirror_mode": {
    "name": "ipython",
    "version": 3
   },
   "file_extension": ".py",
   "mimetype": "text/x-python",
   "name": "python",
   "nbconvert_exporter": "python",
   "pygments_lexer": "ipython3",
   "version": "3.11.8"
  }
 },
 "nbformat": 4,
 "nbformat_minor": 5
}
